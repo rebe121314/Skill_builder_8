{
 "cells": [
  {
   "cell_type": "code",
   "execution_count": 4,
   "metadata": {
    "collapsed": false
   },
   "outputs": [
    {
     "name": "stdout",
     "output_type": "stream",
     "text": [
      "Solution to the systmes\n",
      "[\n",
      "[x == 1/6*sqrt(505) + 35/6, y == -1/12*sqrt(505) - 1/12*sqrt(140*sqrt(505) + 3685) + 35/6, z == -1/12*sqrt(505) + 1/12*sqrt(140*sqrt(505) + 3685) + 35/6, l == 1/6*sqrt(505) + 35/6, m == -35/36*sqrt(505) - 865/36],\n",
      "[x == 1/6*sqrt(505) + 35/6, y == -1/12*sqrt(505) + 1/12*sqrt(140*sqrt(505) + 3685) + 35/6, z == -1/12*sqrt(505) - 1/12*sqrt(140*sqrt(505) + 3685) + 35/6, l == 1/6*sqrt(505) + 35/6, m == -35/36*sqrt(505) - 865/36],\n",
      "[x == -1/6*sqrt(505) + 35/6, y == 1/12*sqrt(505) - 1/12*sqrt(-140*sqrt(505) + 3685) + 35/6, z == 1/12*sqrt(505) + 1/12*sqrt(-140*sqrt(505) + 3685) + 35/6, l == -1/6*sqrt(505) + 35/6, m == 35/36*sqrt(505) - 865/36],\n",
      "[x == -1/6*sqrt(505) + 35/6, y == 1/12*sqrt(505) + 1/12*sqrt(-140*sqrt(505) + 3685) + 35/6, z == 1/12*sqrt(505) - 1/12*sqrt(-140*sqrt(505) + 3685) + 35/6, l == -1/6*sqrt(505) + 35/6, m == 35/36*sqrt(505) - 865/36],\n",
      "[x == -2/7*sqrt(385) + 15/2, y == 1/7*sqrt(385) + 5, z == 1/7*sqrt(385) + 5, l == 31/1078*sqrt(385) + 25/14, m == -45/1078*sqrt(385) - 225/98],\n",
      "[x == 2/7*sqrt(385) + 15/2, y == -1/7*sqrt(385) + 5, z == -1/7*sqrt(385) + 5, l == -31/1078*sqrt(385) + 25/14, m == 45/1078*sqrt(385) - 225/98]\n",
      "]\n"
     ]
    },
    {
     "name": "stdout",
     "output_type": "stream",
     "text": [
      "\n",
      "Final awnsers/extremas\n"
     ]
    },
    {
     "data": {
      "text/plain": [
       "[58.0876254851235,\n",
       " -152.069106966605,\n",
       " -152.069106966605,\n",
       " 58.0876254851235,\n",
       " -152.069106966605,\n",
       " 58.0876254851235]"
      ]
     },
     "execution_count": 4,
     "metadata": {
     },
     "output_type": "execute_result"
    }
   ],
   "source": [
    "var('x,y,z,l,m')\n",
    "f(x,y,z)=x*y*z\n",
    "g1=2*x*y+2*x*z+ y*z\n",
    "g2=4*x+4*y+4*z\n",
    "\n",
    "f.gradient() #(y*z, x*z, x*y)\n",
    "g1.gradient() #(2*y + 2*z, 2*x + z, 2*x + y)\n",
    "g2.gradient() #(4, 4, 4)\n",
    "\n",
    "#Now solve the system gradf=l*gradg1 + m*gradg2, g1=1500, g2=200\n",
    "solve([y*z==l*(2*y+2*z)+m*4, x*z==l*(2*x+ z)+m*4, x*y==l*(2*x+ y)+m*4, g1==120, g2==70], x,y,z,l,m)\n",
    "print(\"Solution to the systmes\")\n",
    "print(solve([y*z==l*(2*y+2*z)+m*4, x*z==l*(2*x+ z)+m*4, x*y==l*(2*x+ y)+m*4, g1==120, g2==70], x,y,z,l,m))\n",
    "\n",
    "#slicker code\n",
    "\n",
    "V(x,y,z) = x*y*z\n",
    "E(x,y,z) = 4*(x+y+z)\n",
    "A(x,y,z) = (2*x*y)+(2*y*z)+(2*x*z)\n",
    "var('L,M')\n",
    "eqs = [V.gradient()[i] == L*E.gradient()[i] + M*A.gradient()[i] for i in range(3)]\n",
    "#edge\n",
    "eqs.append(E==70)\n",
    "#surface area\n",
    "eqs.append(A==120)\n",
    "sol=solve(eqs,x,y,z,L,M)\n",
    "sol\n",
    "print(\"\")\n",
    "print(\"Final awnsers/extremas\")\n",
    "extrema=[f(sol[0].rhs(),sol[1].rhs(),sol[2].rhs()).n() for sol in sol]\n",
    "extrema\n"
   ]
  },
  {
   "cell_type": "code",
   "execution_count": 0,
   "metadata": {
    "collapsed": false
   },
   "outputs": [
   ],
   "source": [
   ]
  }
 ],
 "metadata": {
  "kernelspec": {
   "display_name": "SageMath 9.4",
   "language": "sagemath",
   "metadata": {
    "cocalc": {
     "description": "Open-source mathematical software system",
     "priority": 10,
     "url": "https://www.sagemath.org/"
    }
   },
   "name": "sage-9.4",
   "resource_dir": "/ext/jupyter/kernels/sage-9.4"
  }
 },
 "nbformat": 4,
 "nbformat_minor": 4
}